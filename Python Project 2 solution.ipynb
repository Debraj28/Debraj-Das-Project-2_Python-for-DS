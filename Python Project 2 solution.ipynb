{
 "cells": [
  {
   "cell_type": "markdown",
   "metadata": {
    "id": "j0sX7sM5_6Lp"
   },
   "source": [
    "### 1. Import the required libraries and read the dataset."
   ]
  },
  {
   "cell_type": "code",
   "execution_count": 2,
   "metadata": {
    "executionInfo": {
     "elapsed": 354,
     "status": "ok",
     "timestamp": 1656940963587,
     "user": {
      "displayName": "Vikas HM",
      "userId": "18207387345907596827"
     },
     "user_tz": -330
    },
    "id": "l67X-gX9nJVv"
   },
   "outputs": [],
   "source": [
    "import numpy as np \n",
    "import pandas as pd \n",
    "import matplotlib.pyplot as plt\n",
    "import seaborn as sns\n",
    "import sklearn\n",
    "from sklearn.model_selection import train_test_split\n",
    "from sklearn.preprocessing import StandardScaler\n",
    "from sklearn.linear_model import LogisticRegression\n",
    "from sklearn.metrics import accuracy_score,confusion_matrix\n",
    "from sklearn.preprocessing import LabelEncoder\n",
    "import warnings\n",
    "warnings.filterwarnings('ignore')\n",
    "\n",
    "from sklearn.neighbors import KNeighborsClassifier\n",
    "from sklearn.naive_bayes import GaussianNB\n",
    "from sklearn.ensemble import RandomForestClassifier\n",
    "from sklearn.ensemble import StackingClassifier\n",
    "from sklearn.ensemble import AdaBoostClassifier, GradientBoostingClassifier\n",
    "from sklearn.tree import DecisionTreeClassifier"
   ]
  },
  {
   "cell_type": "code",
   "execution_count": 3,
   "metadata": {
    "executionInfo": {
     "elapsed": 8,
     "status": "ok",
     "timestamp": 1656941491061,
     "user": {
      "displayName": "Vikas HM",
      "userId": "18207387345907596827"
     },
     "user_tz": -330
    },
    "id": "HmO6b3KQIppa"
   },
   "outputs": [],
   "source": [
    "df = pd.read_csv('TelcomCustomer-Churn.csv')"
   ]
  },
  {
   "cell_type": "markdown",
   "metadata": {
    "id": "y4d9CDhQIppa"
   },
   "source": [
    "### 2. Check the first few samples, shape, info of the data and try to familiarize yourself with different features"
   ]
  },
  {
   "cell_type": "code",
   "execution_count": 4,
   "metadata": {
    "colab": {
     "base_uri": "https://localhost:8080/",
     "height": 386
    },
    "executionInfo": {
     "elapsed": 8,
     "status": "ok",
     "timestamp": 1656941491062,
     "user": {
      "displayName": "Vikas HM",
      "userId": "18207387345907596827"
     },
     "user_tz": -330
    },
    "id": "NbymygBzIppb",
    "outputId": "67013637-cd02-462d-d91d-e3469ad6350f"
   },
   "outputs": [
    {
     "data": {
      "text/html": [
       "<div>\n",
       "<style scoped>\n",
       "    .dataframe tbody tr th:only-of-type {\n",
       "        vertical-align: middle;\n",
       "    }\n",
       "\n",
       "    .dataframe tbody tr th {\n",
       "        vertical-align: top;\n",
       "    }\n",
       "\n",
       "    .dataframe thead th {\n",
       "        text-align: right;\n",
       "    }\n",
       "</style>\n",
       "<table border=\"1\" class=\"dataframe\">\n",
       "  <thead>\n",
       "    <tr style=\"text-align: right;\">\n",
       "      <th></th>\n",
       "      <th>customerID</th>\n",
       "      <th>gender</th>\n",
       "      <th>SeniorCitizen</th>\n",
       "      <th>Partner</th>\n",
       "      <th>Dependents</th>\n",
       "      <th>tenure</th>\n",
       "      <th>PhoneService</th>\n",
       "      <th>MultipleLines</th>\n",
       "      <th>InternetService</th>\n",
       "      <th>OnlineSecurity</th>\n",
       "      <th>...</th>\n",
       "      <th>DeviceProtection</th>\n",
       "      <th>TechSupport</th>\n",
       "      <th>StreamingTV</th>\n",
       "      <th>StreamingMovies</th>\n",
       "      <th>Contract</th>\n",
       "      <th>PaperlessBilling</th>\n",
       "      <th>PaymentMethod</th>\n",
       "      <th>MonthlyCharges</th>\n",
       "      <th>TotalCharges</th>\n",
       "      <th>Churn</th>\n",
       "    </tr>\n",
       "  </thead>\n",
       "  <tbody>\n",
       "    <tr>\n",
       "      <th>0</th>\n",
       "      <td>7590-VHVEG</td>\n",
       "      <td>Female</td>\n",
       "      <td>0</td>\n",
       "      <td>Yes</td>\n",
       "      <td>No</td>\n",
       "      <td>1</td>\n",
       "      <td>No</td>\n",
       "      <td>No phone service</td>\n",
       "      <td>DSL</td>\n",
       "      <td>No</td>\n",
       "      <td>...</td>\n",
       "      <td>No</td>\n",
       "      <td>No</td>\n",
       "      <td>No</td>\n",
       "      <td>No</td>\n",
       "      <td>Month-to-month</td>\n",
       "      <td>Yes</td>\n",
       "      <td>Electronic check</td>\n",
       "      <td>29.85</td>\n",
       "      <td>29.85</td>\n",
       "      <td>No</td>\n",
       "    </tr>\n",
       "    <tr>\n",
       "      <th>1</th>\n",
       "      <td>5575-GNVDE</td>\n",
       "      <td>Male</td>\n",
       "      <td>0</td>\n",
       "      <td>No</td>\n",
       "      <td>No</td>\n",
       "      <td>34</td>\n",
       "      <td>Yes</td>\n",
       "      <td>No</td>\n",
       "      <td>DSL</td>\n",
       "      <td>Yes</td>\n",
       "      <td>...</td>\n",
       "      <td>Yes</td>\n",
       "      <td>No</td>\n",
       "      <td>No</td>\n",
       "      <td>No</td>\n",
       "      <td>One year</td>\n",
       "      <td>No</td>\n",
       "      <td>Mailed check</td>\n",
       "      <td>56.95</td>\n",
       "      <td>1889.5</td>\n",
       "      <td>No</td>\n",
       "    </tr>\n",
       "    <tr>\n",
       "      <th>2</th>\n",
       "      <td>3668-QPYBK</td>\n",
       "      <td>Male</td>\n",
       "      <td>0</td>\n",
       "      <td>No</td>\n",
       "      <td>No</td>\n",
       "      <td>2</td>\n",
       "      <td>Yes</td>\n",
       "      <td>No</td>\n",
       "      <td>DSL</td>\n",
       "      <td>Yes</td>\n",
       "      <td>...</td>\n",
       "      <td>No</td>\n",
       "      <td>No</td>\n",
       "      <td>No</td>\n",
       "      <td>No</td>\n",
       "      <td>Month-to-month</td>\n",
       "      <td>Yes</td>\n",
       "      <td>Mailed check</td>\n",
       "      <td>53.85</td>\n",
       "      <td>108.15</td>\n",
       "      <td>Yes</td>\n",
       "    </tr>\n",
       "    <tr>\n",
       "      <th>3</th>\n",
       "      <td>7795-CFOCW</td>\n",
       "      <td>Male</td>\n",
       "      <td>0</td>\n",
       "      <td>No</td>\n",
       "      <td>No</td>\n",
       "      <td>45</td>\n",
       "      <td>No</td>\n",
       "      <td>No phone service</td>\n",
       "      <td>DSL</td>\n",
       "      <td>Yes</td>\n",
       "      <td>...</td>\n",
       "      <td>Yes</td>\n",
       "      <td>Yes</td>\n",
       "      <td>No</td>\n",
       "      <td>No</td>\n",
       "      <td>One year</td>\n",
       "      <td>No</td>\n",
       "      <td>Bank transfer (automatic)</td>\n",
       "      <td>42.30</td>\n",
       "      <td>1840.75</td>\n",
       "      <td>No</td>\n",
       "    </tr>\n",
       "    <tr>\n",
       "      <th>4</th>\n",
       "      <td>9237-HQITU</td>\n",
       "      <td>Female</td>\n",
       "      <td>0</td>\n",
       "      <td>No</td>\n",
       "      <td>No</td>\n",
       "      <td>2</td>\n",
       "      <td>Yes</td>\n",
       "      <td>No</td>\n",
       "      <td>Fiber optic</td>\n",
       "      <td>No</td>\n",
       "      <td>...</td>\n",
       "      <td>No</td>\n",
       "      <td>No</td>\n",
       "      <td>No</td>\n",
       "      <td>No</td>\n",
       "      <td>Month-to-month</td>\n",
       "      <td>Yes</td>\n",
       "      <td>Electronic check</td>\n",
       "      <td>70.70</td>\n",
       "      <td>151.65</td>\n",
       "      <td>Yes</td>\n",
       "    </tr>\n",
       "  </tbody>\n",
       "</table>\n",
       "<p>5 rows × 21 columns</p>\n",
       "</div>"
      ],
      "text/plain": [
       "   customerID  gender  SeniorCitizen Partner Dependents  tenure PhoneService  \\\n",
       "0  7590-VHVEG  Female              0     Yes         No       1           No   \n",
       "1  5575-GNVDE    Male              0      No         No      34          Yes   \n",
       "2  3668-QPYBK    Male              0      No         No       2          Yes   \n",
       "3  7795-CFOCW    Male              0      No         No      45           No   \n",
       "4  9237-HQITU  Female              0      No         No       2          Yes   \n",
       "\n",
       "      MultipleLines InternetService OnlineSecurity  ... DeviceProtection  \\\n",
       "0  No phone service             DSL             No  ...               No   \n",
       "1                No             DSL            Yes  ...              Yes   \n",
       "2                No             DSL            Yes  ...               No   \n",
       "3  No phone service             DSL            Yes  ...              Yes   \n",
       "4                No     Fiber optic             No  ...               No   \n",
       "\n",
       "  TechSupport StreamingTV StreamingMovies        Contract PaperlessBilling  \\\n",
       "0          No          No              No  Month-to-month              Yes   \n",
       "1          No          No              No        One year               No   \n",
       "2          No          No              No  Month-to-month              Yes   \n",
       "3         Yes          No              No        One year               No   \n",
       "4          No          No              No  Month-to-month              Yes   \n",
       "\n",
       "               PaymentMethod MonthlyCharges  TotalCharges Churn  \n",
       "0           Electronic check          29.85         29.85    No  \n",
       "1               Mailed check          56.95        1889.5    No  \n",
       "2               Mailed check          53.85        108.15   Yes  \n",
       "3  Bank transfer (automatic)          42.30       1840.75    No  \n",
       "4           Electronic check          70.70        151.65   Yes  \n",
       "\n",
       "[5 rows x 21 columns]"
      ]
     },
     "execution_count": 4,
     "metadata": {},
     "output_type": "execute_result"
    }
   ],
   "source": [
    "## checking first few samples \n",
    "df.head()"
   ]
  },
  {
   "cell_type": "code",
   "execution_count": 5,
   "metadata": {
    "colab": {
     "base_uri": "https://localhost:8080/"
    },
    "executionInfo": {
     "elapsed": 6,
     "status": "ok",
     "timestamp": 1656941491062,
     "user": {
      "displayName": "Vikas HM",
      "userId": "18207387345907596827"
     },
     "user_tz": -330
    },
    "id": "mOO-XcxVIppc",
    "outputId": "91a3d35d-d4a2-450c-8b89-78cc5535a7fe"
   },
   "outputs": [
    {
     "data": {
      "text/plain": [
       "(7043, 21)"
      ]
     },
     "execution_count": 5,
     "metadata": {},
     "output_type": "execute_result"
    }
   ],
   "source": [
    "## Checking the shape\n",
    "df.shape"
   ]
  },
  {
   "cell_type": "code",
   "execution_count": 6,
   "metadata": {
    "colab": {
     "base_uri": "https://localhost:8080/"
    },
    "executionInfo": {
     "elapsed": 3,
     "status": "ok",
     "timestamp": 1656941491642,
     "user": {
      "displayName": "Vikas HM",
      "userId": "18207387345907596827"
     },
     "user_tz": -330
    },
    "id": "C0AJfSN_Ippc",
    "outputId": "5a32e23d-336d-43a6-a830-7ea68e507536"
   },
   "outputs": [
    {
     "name": "stdout",
     "output_type": "stream",
     "text": [
      "<class 'pandas.core.frame.DataFrame'>\n",
      "RangeIndex: 7043 entries, 0 to 7042\n",
      "Data columns (total 21 columns):\n",
      " #   Column            Non-Null Count  Dtype  \n",
      "---  ------            --------------  -----  \n",
      " 0   customerID        7043 non-null   object \n",
      " 1   gender            7043 non-null   object \n",
      " 2   SeniorCitizen     7043 non-null   int64  \n",
      " 3   Partner           7043 non-null   object \n",
      " 4   Dependents        7043 non-null   object \n",
      " 5   tenure            7043 non-null   int64  \n",
      " 6   PhoneService      7043 non-null   object \n",
      " 7   MultipleLines     7043 non-null   object \n",
      " 8   InternetService   7043 non-null   object \n",
      " 9   OnlineSecurity    7043 non-null   object \n",
      " 10  OnlineBackup      7043 non-null   object \n",
      " 11  DeviceProtection  7043 non-null   object \n",
      " 12  TechSupport       7043 non-null   object \n",
      " 13  StreamingTV       7043 non-null   object \n",
      " 14  StreamingMovies   7043 non-null   object \n",
      " 15  Contract          7043 non-null   object \n",
      " 16  PaperlessBilling  7043 non-null   object \n",
      " 17  PaymentMethod     7043 non-null   object \n",
      " 18  MonthlyCharges    7043 non-null   float64\n",
      " 19  TotalCharges      7043 non-null   object \n",
      " 20  Churn             7043 non-null   object \n",
      "dtypes: float64(1), int64(2), object(18)\n",
      "memory usage: 1.1+ MB\n"
     ]
    }
   ],
   "source": [
    "## Checking the basic information about the dataset.\n",
    "df.info()"
   ]
  },
  {
   "cell_type": "code",
   "execution_count": 7,
   "metadata": {
    "executionInfo": {
     "elapsed": 335,
     "status": "ok",
     "timestamp": 1656941509086,
     "user": {
      "displayName": "Vikas HM",
      "userId": "18207387345907596827"
     },
     "user_tz": -330
    },
    "id": "SAfL77v8ZLpY"
   },
   "outputs": [],
   "source": [
    "## We can see that totalcharges is in object datatype, So convert it to numeric\n",
    "df['TotalCharges'] = pd.to_numeric(df['TotalCharges'],errors='coerce')\n",
    "\n",
    "dfc = df.copy()"
   ]
  },
  {
   "cell_type": "markdown",
   "metadata": {
    "id": "o-LQ2NpgIppd"
   },
   "source": [
    "### 3. Check the percentage of missing values in each column of the data frame. Drop the missing values if there are any "
   ]
  },
  {
   "cell_type": "code",
   "execution_count": 8,
   "metadata": {
    "colab": {
     "base_uri": "https://localhost:8080/"
    },
    "executionInfo": {
     "elapsed": 2,
     "status": "ok",
     "timestamp": 1656941511466,
     "user": {
      "displayName": "Vikas HM",
      "userId": "18207387345907596827"
     },
     "user_tz": -330
    },
    "id": "_0bqrJbunJV0",
    "outputId": "8b0c9a79-f9b2-4386-b8a4-c7ebd6fc7a40"
   },
   "outputs": [
    {
     "name": "stdout",
     "output_type": "stream",
     "text": [
      "percentage of missing data of dataframe \n",
      " customerID          0.000000\n",
      "gender              0.000000\n",
      "SeniorCitizen       0.000000\n",
      "Partner             0.000000\n",
      "Dependents          0.000000\n",
      "tenure              0.000000\n",
      "PhoneService        0.000000\n",
      "MultipleLines       0.000000\n",
      "InternetService     0.000000\n",
      "OnlineSecurity      0.000000\n",
      "OnlineBackup        0.000000\n",
      "DeviceProtection    0.000000\n",
      "TechSupport         0.000000\n",
      "StreamingTV         0.000000\n",
      "StreamingMovies     0.000000\n",
      "Contract            0.000000\n",
      "PaperlessBilling    0.000000\n",
      "PaymentMethod       0.000000\n",
      "MonthlyCharges      0.000000\n",
      "TotalCharges        0.156183\n",
      "Churn               0.000000\n",
      "dtype: float64\n"
     ]
    }
   ],
   "source": [
    "## checking the percentage of missing values.\n",
    "\n",
    "def check_missing_values(df):\n",
    "    '''Function to check the missing data percentage'''\n",
    "    print(\"percentage of missing data of dataframe \\n\",df.isnull().sum()/len(df)*100)\n",
    "    \n",
    "check_missing_values(df)"
   ]
  },
  {
   "cell_type": "markdown",
   "metadata": {
    "id": "-nXGucydIppe"
   },
   "source": [
    "### 4. Check if there are any duplicate records in the dataset? If any drop them."
   ]
  },
  {
   "cell_type": "code",
   "execution_count": 9,
   "metadata": {
    "colab": {
     "base_uri": "https://localhost:8080/",
     "height": 143
    },
    "executionInfo": {
     "elapsed": 5,
     "status": "ok",
     "timestamp": 1656941512548,
     "user": {
      "displayName": "Vikas HM",
      "userId": "18207387345907596827"
     },
     "user_tz": -330
    },
    "id": "RAAu8T34nJV1",
    "outputId": "6253cf25-b2d7-4b0f-b70e-0bea3b9b3de5",
    "scrolled": true
   },
   "outputs": [
    {
     "data": {
      "text/html": [
       "<div>\n",
       "<style scoped>\n",
       "    .dataframe tbody tr th:only-of-type {\n",
       "        vertical-align: middle;\n",
       "    }\n",
       "\n",
       "    .dataframe tbody tr th {\n",
       "        vertical-align: top;\n",
       "    }\n",
       "\n",
       "    .dataframe thead th {\n",
       "        text-align: right;\n",
       "    }\n",
       "</style>\n",
       "<table border=\"1\" class=\"dataframe\">\n",
       "  <thead>\n",
       "    <tr style=\"text-align: right;\">\n",
       "      <th></th>\n",
       "      <th>customerID</th>\n",
       "      <th>gender</th>\n",
       "      <th>SeniorCitizen</th>\n",
       "      <th>Partner</th>\n",
       "      <th>Dependents</th>\n",
       "      <th>tenure</th>\n",
       "      <th>PhoneService</th>\n",
       "      <th>MultipleLines</th>\n",
       "      <th>InternetService</th>\n",
       "      <th>OnlineSecurity</th>\n",
       "      <th>...</th>\n",
       "      <th>DeviceProtection</th>\n",
       "      <th>TechSupport</th>\n",
       "      <th>StreamingTV</th>\n",
       "      <th>StreamingMovies</th>\n",
       "      <th>Contract</th>\n",
       "      <th>PaperlessBilling</th>\n",
       "      <th>PaymentMethod</th>\n",
       "      <th>MonthlyCharges</th>\n",
       "      <th>TotalCharges</th>\n",
       "      <th>Churn</th>\n",
       "    </tr>\n",
       "  </thead>\n",
       "  <tbody>\n",
       "  </tbody>\n",
       "</table>\n",
       "<p>0 rows × 21 columns</p>\n",
       "</div>"
      ],
      "text/plain": [
       "Empty DataFrame\n",
       "Columns: [customerID, gender, SeniorCitizen, Partner, Dependents, tenure, PhoneService, MultipleLines, InternetService, OnlineSecurity, OnlineBackup, DeviceProtection, TechSupport, StreamingTV, StreamingMovies, Contract, PaperlessBilling, PaymentMethod, MonthlyCharges, TotalCharges, Churn]\n",
       "Index: []\n",
       "\n",
       "[0 rows x 21 columns]"
      ]
     },
     "execution_count": 9,
     "metadata": {},
     "output_type": "execute_result"
    }
   ],
   "source": [
    "## Checking if there are any duplicate entires.\n",
    "\n",
    "def check_duplicate(df):\n",
    "    duplicate=df[df.duplicated()]\n",
    "    return duplicate\n",
    "\n",
    "duplicate=check_duplicate(df)\n",
    "duplicate"
   ]
  },
  {
   "cell_type": "markdown",
   "metadata": {
    "id": "rtUHC3seIppe"
   },
   "source": [
    "### 5. Drop the columns which you think redundant for the analysis"
   ]
  },
  {
   "cell_type": "code",
   "execution_count": 10,
   "metadata": {
    "executionInfo": {
     "elapsed": 1,
     "status": "ok",
     "timestamp": 1656941512903,
     "user": {
      "displayName": "Vikas HM",
      "userId": "18207387345907596827"
     },
     "user_tz": -330
    },
    "id": "cjgD6ST8Ippe"
   },
   "outputs": [],
   "source": [
    "## Dropping the column CustomerID\n",
    "df.drop('customerID',axis=1,inplace=True)"
   ]
  },
  {
   "cell_type": "markdown",
   "metadata": {
    "id": "3t3biRZXIppe"
   },
   "source": [
    "### 6. Encode the categorical variables"
   ]
  },
  {
   "cell_type": "code",
   "execution_count": 11,
   "metadata": {
    "executionInfo": {
     "elapsed": 497,
     "status": "ok",
     "timestamp": 1656941513973,
     "user": {
      "displayName": "Vikas HM",
      "userId": "18207387345907596827"
     },
     "user_tz": -330
    },
    "id": "DmnedNY9nJV2"
   },
   "outputs": [],
   "source": [
    "## Encoding categorical variables using label encoder\n",
    "\n",
    "## select object datatype variables\n",
    "object_type_variables = [i for i in df.columns if df.dtypes[i] == object]\n",
    "object_type_variables \n",
    "\n",
    "\n",
    "le = LabelEncoder()\n",
    "\n",
    "def encoder(df):\n",
    "    for i in object_type_variables:\n",
    "        q = le.fit_transform(df[i].astype(str))  \n",
    "        df[i] = q                               \n",
    "        df[i] = df[i].astype(int)\n",
    "encoder(df)"
   ]
  },
  {
   "cell_type": "code",
   "execution_count": 12,
   "metadata": {
    "colab": {
     "base_uri": "https://localhost:8080/",
     "height": 176
    },
    "executionInfo": {
     "elapsed": 4,
     "status": "ok",
     "timestamp": 1656941514330,
     "user": {
      "displayName": "Vikas HM",
      "userId": "18207387345907596827"
     },
     "user_tz": -330
    },
    "id": "-1Rl1P0knJV2",
    "outputId": "00752ce6-f5e7-4ad3-cd65-6ec6d39c134f"
   },
   "outputs": [
    {
     "data": {
      "text/html": [
       "<div>\n",
       "<style scoped>\n",
       "    .dataframe tbody tr th:only-of-type {\n",
       "        vertical-align: middle;\n",
       "    }\n",
       "\n",
       "    .dataframe tbody tr th {\n",
       "        vertical-align: top;\n",
       "    }\n",
       "\n",
       "    .dataframe thead th {\n",
       "        text-align: right;\n",
       "    }\n",
       "</style>\n",
       "<table border=\"1\" class=\"dataframe\">\n",
       "  <thead>\n",
       "    <tr style=\"text-align: right;\">\n",
       "      <th></th>\n",
       "      <th>gender</th>\n",
       "      <th>SeniorCitizen</th>\n",
       "      <th>Partner</th>\n",
       "      <th>Dependents</th>\n",
       "      <th>tenure</th>\n",
       "      <th>PhoneService</th>\n",
       "      <th>MultipleLines</th>\n",
       "      <th>InternetService</th>\n",
       "      <th>OnlineSecurity</th>\n",
       "      <th>OnlineBackup</th>\n",
       "      <th>DeviceProtection</th>\n",
       "      <th>TechSupport</th>\n",
       "      <th>StreamingTV</th>\n",
       "      <th>StreamingMovies</th>\n",
       "      <th>Contract</th>\n",
       "      <th>PaperlessBilling</th>\n",
       "      <th>PaymentMethod</th>\n",
       "      <th>MonthlyCharges</th>\n",
       "      <th>TotalCharges</th>\n",
       "      <th>Churn</th>\n",
       "    </tr>\n",
       "  </thead>\n",
       "  <tbody>\n",
       "    <tr>\n",
       "      <th>0</th>\n",
       "      <td>0</td>\n",
       "      <td>0</td>\n",
       "      <td>1</td>\n",
       "      <td>0</td>\n",
       "      <td>1</td>\n",
       "      <td>0</td>\n",
       "      <td>1</td>\n",
       "      <td>0</td>\n",
       "      <td>0</td>\n",
       "      <td>2</td>\n",
       "      <td>0</td>\n",
       "      <td>0</td>\n",
       "      <td>0</td>\n",
       "      <td>0</td>\n",
       "      <td>0</td>\n",
       "      <td>1</td>\n",
       "      <td>2</td>\n",
       "      <td>29.85</td>\n",
       "      <td>29.85</td>\n",
       "      <td>0</td>\n",
       "    </tr>\n",
       "    <tr>\n",
       "      <th>1</th>\n",
       "      <td>1</td>\n",
       "      <td>0</td>\n",
       "      <td>0</td>\n",
       "      <td>0</td>\n",
       "      <td>34</td>\n",
       "      <td>1</td>\n",
       "      <td>0</td>\n",
       "      <td>0</td>\n",
       "      <td>2</td>\n",
       "      <td>0</td>\n",
       "      <td>2</td>\n",
       "      <td>0</td>\n",
       "      <td>0</td>\n",
       "      <td>0</td>\n",
       "      <td>1</td>\n",
       "      <td>0</td>\n",
       "      <td>3</td>\n",
       "      <td>56.95</td>\n",
       "      <td>1889.50</td>\n",
       "      <td>0</td>\n",
       "    </tr>\n",
       "  </tbody>\n",
       "</table>\n",
       "</div>"
      ],
      "text/plain": [
       "   gender  SeniorCitizen  Partner  Dependents  tenure  PhoneService  \\\n",
       "0       0              0        1           0       1             0   \n",
       "1       1              0        0           0      34             1   \n",
       "\n",
       "   MultipleLines  InternetService  OnlineSecurity  OnlineBackup  \\\n",
       "0              1                0               0             2   \n",
       "1              0                0               2             0   \n",
       "\n",
       "   DeviceProtection  TechSupport  StreamingTV  StreamingMovies  Contract  \\\n",
       "0                 0            0            0                0         0   \n",
       "1                 2            0            0                0         1   \n",
       "\n",
       "   PaperlessBilling  PaymentMethod  MonthlyCharges  TotalCharges  Churn  \n",
       "0                 1              2           29.85         29.85      0  \n",
       "1                 0              3           56.95       1889.50      0  "
      ]
     },
     "execution_count": 12,
     "metadata": {},
     "output_type": "execute_result"
    }
   ],
   "source": [
    "df.head(2)"
   ]
  },
  {
   "cell_type": "markdown",
   "metadata": {
    "id": "_WfS4o2S_6Lv"
   },
   "source": [
    "### 7. Perform a detailed univariate, bivariate and multivariate analysis with appropriate detailed comments after each analysis. "
   ]
  },
  {
   "cell_type": "code",
   "execution_count": 13,
   "metadata": {
    "colab": {
     "base_uri": "https://localhost:8080/",
     "height": 175
    },
    "executionInfo": {
     "elapsed": 4,
     "status": "ok",
     "timestamp": 1656941516427,
     "user": {
      "displayName": "Vikas HM",
      "userId": "18207387345907596827"
     },
     "user_tz": -330
    },
    "id": "DNrhKVneToAj",
    "outputId": "171ae7b4-c015-4719-9277-3ec9749bc057"
   },
   "outputs": [
    {
     "data": {
      "text/html": [
       "<div>\n",
       "<style scoped>\n",
       "    .dataframe tbody tr th:only-of-type {\n",
       "        vertical-align: middle;\n",
       "    }\n",
       "\n",
       "    .dataframe tbody tr th {\n",
       "        vertical-align: top;\n",
       "    }\n",
       "\n",
       "    .dataframe thead th {\n",
       "        text-align: right;\n",
       "    }\n",
       "</style>\n",
       "<table border=\"1\" class=\"dataframe\">\n",
       "  <thead>\n",
       "    <tr style=\"text-align: right;\">\n",
       "      <th></th>\n",
       "      <th>count</th>\n",
       "      <th>mean</th>\n",
       "      <th>std</th>\n",
       "      <th>min</th>\n",
       "      <th>25%</th>\n",
       "      <th>50%</th>\n",
       "      <th>75%</th>\n",
       "      <th>max</th>\n",
       "    </tr>\n",
       "  </thead>\n",
       "  <tbody>\n",
       "    <tr>\n",
       "      <th>SeniorCitizen</th>\n",
       "      <td>7043.0</td>\n",
       "      <td>0.162147</td>\n",
       "      <td>0.368612</td>\n",
       "      <td>0.00</td>\n",
       "      <td>0.00</td>\n",
       "      <td>0.000</td>\n",
       "      <td>0.0000</td>\n",
       "      <td>1.00</td>\n",
       "    </tr>\n",
       "    <tr>\n",
       "      <th>tenure</th>\n",
       "      <td>7043.0</td>\n",
       "      <td>32.371149</td>\n",
       "      <td>24.559481</td>\n",
       "      <td>0.00</td>\n",
       "      <td>9.00</td>\n",
       "      <td>29.000</td>\n",
       "      <td>55.0000</td>\n",
       "      <td>72.00</td>\n",
       "    </tr>\n",
       "    <tr>\n",
       "      <th>MonthlyCharges</th>\n",
       "      <td>7043.0</td>\n",
       "      <td>64.761692</td>\n",
       "      <td>30.090047</td>\n",
       "      <td>18.25</td>\n",
       "      <td>35.50</td>\n",
       "      <td>70.350</td>\n",
       "      <td>89.8500</td>\n",
       "      <td>118.75</td>\n",
       "    </tr>\n",
       "    <tr>\n",
       "      <th>TotalCharges</th>\n",
       "      <td>7032.0</td>\n",
       "      <td>2283.300441</td>\n",
       "      <td>2266.771362</td>\n",
       "      <td>18.80</td>\n",
       "      <td>401.45</td>\n",
       "      <td>1397.475</td>\n",
       "      <td>3794.7375</td>\n",
       "      <td>8684.80</td>\n",
       "    </tr>\n",
       "  </tbody>\n",
       "</table>\n",
       "</div>"
      ],
      "text/plain": [
       "                 count         mean          std    min     25%       50%  \\\n",
       "SeniorCitizen   7043.0     0.162147     0.368612   0.00    0.00     0.000   \n",
       "tenure          7043.0    32.371149    24.559481   0.00    9.00    29.000   \n",
       "MonthlyCharges  7043.0    64.761692    30.090047  18.25   35.50    70.350   \n",
       "TotalCharges    7032.0  2283.300441  2266.771362  18.80  401.45  1397.475   \n",
       "\n",
       "                      75%      max  \n",
       "SeniorCitizen      0.0000     1.00  \n",
       "tenure            55.0000    72.00  \n",
       "MonthlyCharges    89.8500   118.75  \n",
       "TotalCharges    3794.7375  8684.80  "
      ]
     },
     "execution_count": 13,
     "metadata": {},
     "output_type": "execute_result"
    }
   ],
   "source": [
    "## Checking the statistical summary of the numerical variables\n",
    "dfc.select_dtypes(include=np.number).describe().T"
   ]
  },
  {
   "cell_type": "code",
   "execution_count": 14,
   "metadata": {
    "colab": {
     "base_uri": "https://localhost:8080/",
     "height": 256
    },
    "executionInfo": {
     "elapsed": 522,
     "status": "ok",
     "timestamp": 1656941517314,
     "user": {
      "displayName": "Vikas HM",
      "userId": "18207387345907596827"
     },
     "user_tz": -330
    },
    "id": "wSQ_-uwVToF_",
    "outputId": "740b3a53-4952-49fa-ed88-c377c966cb60"
   },
   "outputs": [
    {
     "data": {
      "text/html": [
       "<div>\n",
       "<style scoped>\n",
       "    .dataframe tbody tr th:only-of-type {\n",
       "        vertical-align: middle;\n",
       "    }\n",
       "\n",
       "    .dataframe tbody tr th {\n",
       "        vertical-align: top;\n",
       "    }\n",
       "\n",
       "    .dataframe thead th {\n",
       "        text-align: right;\n",
       "    }\n",
       "</style>\n",
       "<table border=\"1\" class=\"dataframe\">\n",
       "  <thead>\n",
       "    <tr style=\"text-align: right;\">\n",
       "      <th></th>\n",
       "      <th>customerID</th>\n",
       "      <th>gender</th>\n",
       "      <th>Partner</th>\n",
       "      <th>Dependents</th>\n",
       "      <th>PhoneService</th>\n",
       "      <th>MultipleLines</th>\n",
       "      <th>InternetService</th>\n",
       "      <th>OnlineSecurity</th>\n",
       "      <th>OnlineBackup</th>\n",
       "      <th>DeviceProtection</th>\n",
       "      <th>TechSupport</th>\n",
       "      <th>StreamingTV</th>\n",
       "      <th>StreamingMovies</th>\n",
       "      <th>Contract</th>\n",
       "      <th>PaperlessBilling</th>\n",
       "      <th>PaymentMethod</th>\n",
       "      <th>Churn</th>\n",
       "    </tr>\n",
       "  </thead>\n",
       "  <tbody>\n",
       "    <tr>\n",
       "      <th>count</th>\n",
       "      <td>7043</td>\n",
       "      <td>7043</td>\n",
       "      <td>7043</td>\n",
       "      <td>7043</td>\n",
       "      <td>7043</td>\n",
       "      <td>7043</td>\n",
       "      <td>7043</td>\n",
       "      <td>7043</td>\n",
       "      <td>7043</td>\n",
       "      <td>7043</td>\n",
       "      <td>7043</td>\n",
       "      <td>7043</td>\n",
       "      <td>7043</td>\n",
       "      <td>7043</td>\n",
       "      <td>7043</td>\n",
       "      <td>7043</td>\n",
       "      <td>7043</td>\n",
       "    </tr>\n",
       "    <tr>\n",
       "      <th>unique</th>\n",
       "      <td>7043</td>\n",
       "      <td>2</td>\n",
       "      <td>2</td>\n",
       "      <td>2</td>\n",
       "      <td>2</td>\n",
       "      <td>3</td>\n",
       "      <td>3</td>\n",
       "      <td>3</td>\n",
       "      <td>3</td>\n",
       "      <td>3</td>\n",
       "      <td>3</td>\n",
       "      <td>3</td>\n",
       "      <td>3</td>\n",
       "      <td>3</td>\n",
       "      <td>2</td>\n",
       "      <td>4</td>\n",
       "      <td>2</td>\n",
       "    </tr>\n",
       "    <tr>\n",
       "      <th>top</th>\n",
       "      <td>3097-NNSPB</td>\n",
       "      <td>Male</td>\n",
       "      <td>No</td>\n",
       "      <td>No</td>\n",
       "      <td>Yes</td>\n",
       "      <td>No</td>\n",
       "      <td>Fiber optic</td>\n",
       "      <td>No</td>\n",
       "      <td>No</td>\n",
       "      <td>No</td>\n",
       "      <td>No</td>\n",
       "      <td>No</td>\n",
       "      <td>No</td>\n",
       "      <td>Month-to-month</td>\n",
       "      <td>Yes</td>\n",
       "      <td>Electronic check</td>\n",
       "      <td>No</td>\n",
       "    </tr>\n",
       "    <tr>\n",
       "      <th>freq</th>\n",
       "      <td>1</td>\n",
       "      <td>3555</td>\n",
       "      <td>3641</td>\n",
       "      <td>4933</td>\n",
       "      <td>6361</td>\n",
       "      <td>3390</td>\n",
       "      <td>3096</td>\n",
       "      <td>3498</td>\n",
       "      <td>3088</td>\n",
       "      <td>3095</td>\n",
       "      <td>3473</td>\n",
       "      <td>2810</td>\n",
       "      <td>2785</td>\n",
       "      <td>3875</td>\n",
       "      <td>4171</td>\n",
       "      <td>2365</td>\n",
       "      <td>5174</td>\n",
       "    </tr>\n",
       "  </tbody>\n",
       "</table>\n",
       "</div>"
      ],
      "text/plain": [
       "        customerID gender Partner Dependents PhoneService MultipleLines  \\\n",
       "count         7043   7043    7043       7043         7043          7043   \n",
       "unique        7043      2       2          2            2             3   \n",
       "top     3097-NNSPB   Male      No         No          Yes            No   \n",
       "freq             1   3555    3641       4933         6361          3390   \n",
       "\n",
       "       InternetService OnlineSecurity OnlineBackup DeviceProtection  \\\n",
       "count             7043           7043         7043             7043   \n",
       "unique               3              3            3                3   \n",
       "top        Fiber optic             No           No               No   \n",
       "freq              3096           3498         3088             3095   \n",
       "\n",
       "       TechSupport StreamingTV StreamingMovies        Contract  \\\n",
       "count         7043        7043            7043            7043   \n",
       "unique           3           3               3               3   \n",
       "top             No          No              No  Month-to-month   \n",
       "freq          3473        2810            2785            3875   \n",
       "\n",
       "       PaperlessBilling     PaymentMethod Churn  \n",
       "count              7043              7043  7043  \n",
       "unique                2                 4     2  \n",
       "top                 Yes  Electronic check    No  \n",
       "freq               4171              2365  5174  "
      ]
     },
     "execution_count": 14,
     "metadata": {},
     "output_type": "execute_result"
    }
   ],
   "source": [
    "## Checking the statistical summary of the categorical variables\n",
    "dfc.select_dtypes(include='O').describe()"
   ]
  },
  {
   "cell_type": "code",
   "execution_count": 15,
   "metadata": {
    "colab": {
     "base_uri": "https://localhost:8080/",
     "height": 340
    },
    "executionInfo": {
     "elapsed": 859,
     "status": "ok",
     "timestamp": 1656941518959,
     "user": {
      "displayName": "Vikas HM",
      "userId": "18207387345907596827"
     },
     "user_tz": -330
    },
    "id": "C8lVcmdVToIl",
    "outputId": "d7a9f74b-cef1-4b05-f6b5-c8693c91c5ac"
   },
   "outputs": [
    {
     "data": {
      "image/png": "[encoded data removed]",
      "text/plain": [
       "<Figure size 432x288 with 2 Axes>"
      ]
     },
     "metadata": {
      "needs_background": "light"
     },
     "output_type": "display_data"
    }
   ],
   "source": [
    "sns.heatmap(dfc.corr(),annot=True,cmap='viridis')\n",
    "plt.show()"
   ]
  },
  {
   "cell_type": "code",
   "execution_count": 16,
   "metadata": {
    "colab": {
     "base_uri": "https://localhost:8080/",
     "height": 248
    },
    "executionInfo": {
     "elapsed": 6,
     "status": "ok",
     "timestamp": 1656941518959,
     "user": {
      "displayName": "Vikas HM",
      "userId": "18207387345907596827"
     },
     "user_tz": -330
    },
    "id": "X5pDkfrnToK7",
    "outputId": "839dbbdf-6fc7-4366-81ab-84f81f1c8800"
   },
   "outputs": [
    {
     "data": {
      "image/png": "[encoded data removed]",
      "text/plain": [
       "<Figure size 432x288 with 1 Axes>"
      ]
     },
     "metadata": {},
     "output_type": "display_data"
    }
   ],
   "source": [
    "# Visualizing Churn proportion\n",
    "dfc['Churn'].value_counts().plot(kind='pie',autopct='%1.0f%%')\n",
    "plt.show()"
   ]
  },
  {
   "cell_type": "code",
   "execution_count": 17,
   "metadata": {
    "colab": {
     "base_uri": "https://localhost:8080/",
     "height": 279
    },
    "executionInfo": {
     "elapsed": 3,
     "status": "ok",
     "timestamp": 1656941519527,
     "user": {
      "displayName": "Vikas HM",
      "userId": "18207387345907596827"
     },
     "user_tz": -330
    },
    "id": "slc6oCnkToNk",
    "outputId": "5fa591f9-170c-413c-8bc6-1cccce5c287f"
   },
   "outputs": [
    {
     "data": {
      "image/png": "[encoded data removed]",
      "text/plain": [
       "<Figure size 432x288 with 1 Axes>"
      ]
     },
     "metadata": {
      "needs_background": "light"
     },
     "output_type": "display_data"
    }
   ],
   "source": [
    "# Checking the gender distribution of the customers.\n",
    "sns.countplot(dfc['gender'])\n",
    "plt.show()"
   ]
  },
  {
   "cell_type": "code",
   "execution_count": 18,
   "metadata": {
    "colab": {
     "base_uri": "https://localhost:8080/",
     "height": 279
    },
    "executionInfo": {
     "elapsed": 812,
     "status": "ok",
     "timestamp": 1656941521598,
     "user": {
      "displayName": "Vikas HM",
      "userId": "18207387345907596827"
     },
     "user_tz": -330
    },
    "id": "7_G2iFIsToQC",
    "outputId": "28475cf1-fa47-4c1a-9dcb-77306fdd5c5d"
   },
   "outputs": [
    {
     "data": {
      "image/png": "[encoded data removed]",
      "text/plain": [
       "<Figure size 432x288 with 1 Axes>"
      ]
     },
     "metadata": {
      "needs_background": "light"
     },
     "output_type": "display_data"
    }
   ],
   "source": [
    "# Checking the distribution of the column monthly charges and total charges.\n",
    "sns.distplot(dfc['MonthlyCharges'])\n",
    "plt.show()"
   ]
  },
  {
   "cell_type": "code",
   "execution_count": 19,
   "metadata": {
    "colab": {
     "base_uri": "https://localhost:8080/",
     "height": 368
    },
    "executionInfo": {
     "elapsed": 420,
     "status": "ok",
     "timestamp": 1656941529383,
     "user": {
      "displayName": "Vikas HM",
      "userId": "18207387345907596827"
     },
     "user_tz": -330
    },
    "id": "oL99C4L4ToVE",
    "outputId": "44e2007c-b638-407e-dd98-dd92b030cf79"
   },
   "outputs": [
    {
     "data": {
      "image/png": "[encoded data removed]",
      "text/plain": [
       "<Figure size 432x288 with 1 Axes>"
      ]
     },
     "metadata": {
      "needs_background": "light"
     },
     "output_type": "display_data"
    }
   ],
   "source": [
    "## Checking the distribution of the different PaymentMethod.\n",
    "sns.countplot(dfc['PaymentMethod'])\n",
    "plt.xticks(rotation=45)\n",
    "plt.show()"
   ]
  },
  {
   "cell_type": "code",
   "execution_count": 20,
   "metadata": {
    "colab": {
     "base_uri": "https://localhost:8080/",
     "height": 279
    },
    "executionInfo": {
     "elapsed": 4,
     "status": "ok",
     "timestamp": 1656941530571,
     "user": {
      "displayName": "Vikas HM",
      "userId": "18207387345907596827"
     },
     "user_tz": -330
    },
    "id": "Re7t1RyUToXv",
    "outputId": "ab6033d5-78b8-45c2-9569-29cc67096641"
   },
   "outputs": [
    {
     "data": {
      "image/png": "[encoded data removed]",
      "text/plain": [
       "<Figure size 432x288 with 1 Axes>"
      ]
     },
     "metadata": {
      "needs_background": "light"
     },
     "output_type": "display_data"
    }
   ],
   "source": [
    "# Visualizing how churn interacts with tenure\n",
    "sns.boxplot(dfc['tenure'],dfc['Churn'])\n",
    "plt.show()"
   ]
  },
  {
   "cell_type": "code",
   "execution_count": 21,
   "metadata": {
    "colab": {
     "base_uri": "https://localhost:8080/",
     "height": 279
    },
    "executionInfo": {
     "elapsed": 5,
     "status": "ok",
     "timestamp": 1656941532496,
     "user": {
      "displayName": "Vikas HM",
      "userId": "18207387345907596827"
     },
     "user_tz": -330
    },
    "id": "FNsHEVeaToZ7",
    "outputId": "c663aade-c7a1-4156-8e32-0bca5d65e3e4"
   },
   "outputs": [
    {
     "data": {
      "image/png": "[encoded data removed]",
      "text/plain": [
       "<Figure size 432x288 with 1 Axes>"
      ]
     },
     "metadata": {
      "needs_background": "light"
     },
     "output_type": "display_data"
    }
   ],
   "source": [
    "# Visualizing relationship monthlycharges Vs tenure\n",
    "sns.boxplot(dfc['MonthlyCharges'],dfc['Churn'])\n",
    "plt.show()"
   ]
  },
  {
   "cell_type": "code",
   "execution_count": 22,
   "metadata": {
    "colab": {
     "base_uri": "https://localhost:8080/",
     "height": 385
    },
    "executionInfo": {
     "elapsed": 4111,
     "status": "ok",
     "timestamp": 1656941566821,
     "user": {
      "displayName": "Vikas HM",
      "userId": "18207387345907596827"
     },
     "user_tz": -330
    },
    "id": "-eUKb0DoaaoP",
    "outputId": "2e402984-3706-4332-930c-aea31199c951"
   },
   "outputs": [
    {
     "data": {
      "image/png": "[encoded data removed]",
      "text/plain": [
       "<Figure size 402.375x360 with 1 Axes>"
      ]
     },
     "metadata": {
      "needs_background": "light"
     },
     "output_type": "display_data"
    }
   ],
   "source": [
    "## Checking the relationship between tenure and the monthlycharges with respect to the target column Churn.\n",
    "ax = sns.lmplot(height = 5, data = df, x = 'tenure', y = 'MonthlyCharges',\n",
    "              hue = 'Churn', scatter_kws={'s': 200}, line_kws = None, palette = 'viridis')\n",
    "ax.set(xlabel = 'Tenure', ylabel = 'Monthly Charges')\n",
    "ax = plt.title('Tenure Vs Monthly Charges Distribution')"
   ]
  },
  {
   "cell_type": "code",
   "execution_count": 23,
   "metadata": {
    "colab": {
     "base_uri": "https://localhost:8080/",
     "height": 385
    },
    "executionInfo": {
     "elapsed": 2684,
     "status": "ok",
     "timestamp": 1656941586450,
     "user": {
      "displayName": "Vikas HM",
      "userId": "18207387345907596827"
     },
     "user_tz": -330
    },
    "id": "BMjcqJaQagRq",
    "outputId": "6caee03d-df58-474f-b61c-c1a4748f172f"
   },
   "outputs": [
    {
     "data": {
      "image/png": "[encoded data removed]",
      "text/plain": [
       "<Figure size 402.375x360 with 1 Axes>"
      ]
     },
     "metadata": {
      "needs_background": "light"
     },
     "output_type": "display_data"
    }
   ],
   "source": [
    "## Checking the relationship between tenure and the totalcharges with respect to the target column Churn.\n",
    "ax = sns.lmplot(height = 5, data = df, x = 'tenure', y = 'TotalCharges',\n",
    "              hue = 'Churn', scatter_kws={'s': 200}, line_kws = None, palette = 'magma')\n",
    "ax.set(xlabel = 'Tenure', ylabel = 'Total Charges')\n",
    "ax = plt.title('Tenure Vs TotalCharges Distribution')"
   ]
  },
  {
   "cell_type": "code",
   "execution_count": 24,
   "metadata": {
    "colab": {
     "base_uri": "https://localhost:8080/",
     "height": 385
    },
    "executionInfo": {
     "elapsed": 2830,
     "status": "ok",
     "timestamp": 1656941611805,
     "user": {
      "displayName": "Vikas HM",
      "userId": "18207387345907596827"
     },
     "user_tz": -330
    },
    "id": "xWozdO-Bal-q",
    "outputId": "d43b67e1-dbe1-4373-b796-ebf2508329be"
   },
   "outputs": [
    {
     "data": {
      "image/png": "[encoded data removed]",
      "text/plain": [
       "<Figure size 402.375x360 with 1 Axes>"
      ]
     },
     "metadata": {
      "needs_background": "light"
     },
     "output_type": "display_data"
    }
   ],
   "source": [
    "## Checking the relationship between MonthlyCharges and the totalcharges with respect to the target column Churn.\n",
    "ax = sns.lmplot(height = 5, data = df, x = 'MonthlyCharges', y = 'TotalCharges',\n",
    "              hue = 'Churn', scatter_kws={'s': 200}, line_kws = None, palette = 'cubehelix')\n",
    "ax.set(xlabel = 'MonthlyCharges', ylabel = 'Total Charges')\n",
    "ax = plt.title('MonthlyCharges Vs TotalCharges Distribution')"
   ]
  },
  {
   "cell_type": "markdown",
   "metadata": {
    "id": "LvlyM5I8Ippg"
   },
   "source": [
    "### 8. Store the target column (i.e. Churn) in the y variable and the rest of the columns in the X variable (2 points)"
   ]
  },
  {
   "cell_type": "code",
   "execution_count": 25,
   "metadata": {
    "id": "yuBTyrgB_6Lw"
   },
   "outputs": [],
   "source": [
    "# Data split: Independent vs target variable\n",
    "\n",
    "X = df.drop(['Churn'],axis=1)  \n",
    "y = df['Churn']                  "
   ]
  },
  {
   "cell_type": "markdown",
   "metadata": {
    "id": "KCtsk4VjIppg"
   },
   "source": [
    "### 9. Split the dataset into two parts (i.e. 70% train and 30% test)"
   ]
  },
  {
   "cell_type": "code",
   "execution_count": 26,
   "metadata": {
    "id": "QEVXGH-t_6Lw"
   },
   "outputs": [],
   "source": [
    "## Splitting the data\n",
    "X_train, X_test, y_train, y_test = train_test_split(X, y, test_size=0.30, random_state=10)  "
   ]
  },
  {
   "cell_type": "markdown",
   "metadata": {
    "id": "lVCsEyHgIppg"
   },
   "source": [
    "### 10. Standardize the columns using z-score scaling approach"
   ]
  },
  {
   "cell_type": "code",
   "execution_count": 27,
   "metadata": {
    "id": "MWHqW_V4Ippg"
   },
   "outputs": [],
   "source": [
    "## Scaling the data\n",
    "ss = StandardScaler()\n",
    "X_train.iloc[:,:] = ss.fit_transform(X_train.iloc[:,:])\n",
    "X_test.iloc[:,:] = ss.transform(X_test.iloc[:,:])"
   ]
  },
  {
   "cell_type": "code",
   "execution_count": 28,
   "metadata": {
    "id": "heodE7Y5nJV4",
    "outputId": "c7c1a260-2a58-452a-f120-97562e3e1661"
   },
   "outputs": [
    {
     "data": {
      "text/html": [
       "<div>\n",
       "<style scoped>\n",
       "    .dataframe tbody tr th:only-of-type {\n",
       "        vertical-align: middle;\n",
       "    }\n",
       "\n",
       "    .dataframe tbody tr th {\n",
       "        vertical-align: top;\n",
       "    }\n",
       "\n",
       "    .dataframe thead th {\n",
       "        text-align: right;\n",
       "    }\n",
       "</style>\n",
       "<table border=\"1\" class=\"dataframe\">\n",
       "  <thead>\n",
       "    <tr style=\"text-align: right;\">\n",
       "      <th></th>\n",
       "      <th>gender</th>\n",
       "      <th>SeniorCitizen</th>\n",
       "      <th>Partner</th>\n",
       "      <th>Dependents</th>\n",
       "      <th>tenure</th>\n",
       "      <th>PhoneService</th>\n",
       "      <th>MultipleLines</th>\n",
       "      <th>InternetService</th>\n",
       "      <th>OnlineSecurity</th>\n",
       "      <th>OnlineBackup</th>\n",
       "      <th>DeviceProtection</th>\n",
       "      <th>TechSupport</th>\n",
       "      <th>StreamingTV</th>\n",
       "      <th>StreamingMovies</th>\n",
       "      <th>Contract</th>\n",
       "      <th>PaperlessBilling</th>\n",
       "      <th>PaymentMethod</th>\n",
       "      <th>MonthlyCharges</th>\n",
       "      <th>TotalCharges</th>\n",
       "    </tr>\n",
       "  </thead>\n",
       "  <tbody>\n",
       "    <tr>\n",
       "      <th>1768</th>\n",
       "      <td>-0.999189</td>\n",
       "      <td>-0.440447</td>\n",
       "      <td>-0.971205</td>\n",
       "      <td>-0.661617</td>\n",
       "      <td>1.242334</td>\n",
       "      <td>0.330698</td>\n",
       "      <td>-0.994822</td>\n",
       "      <td>-1.179622</td>\n",
       "      <td>-0.912353</td>\n",
       "      <td>-1.028900</td>\n",
       "      <td>1.230888</td>\n",
       "      <td>-0.922965</td>\n",
       "      <td>-1.113972</td>\n",
       "      <td>1.141887</td>\n",
       "      <td>0.367913</td>\n",
       "      <td>-1.202263</td>\n",
       "      <td>-0.524973</td>\n",
       "      <td>-0.212682</td>\n",
       "      <td>0.534131</td>\n",
       "    </tr>\n",
       "    <tr>\n",
       "      <th>3556</th>\n",
       "      <td>1.000812</td>\n",
       "      <td>-0.440447</td>\n",
       "      <td>1.029648</td>\n",
       "      <td>1.511449</td>\n",
       "      <td>-1.075505</td>\n",
       "      <td>0.330698</td>\n",
       "      <td>-0.994822</td>\n",
       "      <td>1.539189</td>\n",
       "      <td>0.249595</td>\n",
       "      <td>0.104614</td>\n",
       "      <td>0.098113</td>\n",
       "      <td>0.235146</td>\n",
       "      <td>0.013493</td>\n",
       "      <td>0.014408</td>\n",
       "      <td>0.367913</td>\n",
       "      <td>-1.202263</td>\n",
       "      <td>1.357293</td>\n",
       "      <td>-1.515766</td>\n",
       "      <td>-0.960638</td>\n",
       "    </tr>\n",
       "  </tbody>\n",
       "</table>\n",
       "</div>"
      ],
      "text/plain": [
       "        gender  SeniorCitizen   Partner  Dependents    tenure  PhoneService  \\\n",
       "1768 -0.999189      -0.440447 -0.971205   -0.661617  1.242334      0.330698   \n",
       "3556  1.000812      -0.440447  1.029648    1.511449 -1.075505      0.330698   \n",
       "\n",
       "      MultipleLines  InternetService  OnlineSecurity  OnlineBackup  \\\n",
       "1768      -0.994822        -1.179622       -0.912353     -1.028900   \n",
       "3556      -0.994822         1.539189        0.249595      0.104614   \n",
       "\n",
       "      DeviceProtection  TechSupport  StreamingTV  StreamingMovies  Contract  \\\n",
       "1768          1.230888    -0.922965    -1.113972         1.141887  0.367913   \n",
       "3556          0.098113     0.235146     0.013493         0.014408  0.367913   \n",
       "\n",
       "      PaperlessBilling  PaymentMethod  MonthlyCharges  TotalCharges  \n",
       "1768         -1.202263      -0.524973       -0.212682      0.534131  \n",
       "3556         -1.202263       1.357293       -1.515766     -0.960638  "
      ]
     },
     "execution_count": 28,
     "metadata": {},
     "output_type": "execute_result"
    }
   ],
   "source": [
    "X_train.head(2)"
   ]
  },
  {
   "cell_type": "code",
   "execution_count": 29,
   "metadata": {
    "id": "P8OXAyYqnJV4",
    "outputId": "1ce6c134-a32e-42b9-80d8-fea8cfd0f5ef"
   },
   "outputs": [
    {
     "data": {
      "text/html": [
       "<div>\n",
       "<style scoped>\n",
       "    .dataframe tbody tr th:only-of-type {\n",
       "        vertical-align: middle;\n",
       "    }\n",
       "\n",
       "    .dataframe tbody tr th {\n",
       "        vertical-align: top;\n",
       "    }\n",
       "\n",
       "    .dataframe thead th {\n",
       "        text-align: right;\n",
       "    }\n",
       "</style>\n",
       "<table border=\"1\" class=\"dataframe\">\n",
       "  <thead>\n",
       "    <tr style=\"text-align: right;\">\n",
       "      <th></th>\n",
       "      <th>gender</th>\n",
       "      <th>SeniorCitizen</th>\n",
       "      <th>Partner</th>\n",
       "      <th>Dependents</th>\n",
       "      <th>tenure</th>\n",
       "      <th>PhoneService</th>\n",
       "      <th>MultipleLines</th>\n",
       "      <th>InternetService</th>\n",
       "      <th>OnlineSecurity</th>\n",
       "      <th>OnlineBackup</th>\n",
       "      <th>DeviceProtection</th>\n",
       "      <th>TechSupport</th>\n",
       "      <th>StreamingTV</th>\n",
       "      <th>StreamingMovies</th>\n",
       "      <th>Contract</th>\n",
       "      <th>PaperlessBilling</th>\n",
       "      <th>PaymentMethod</th>\n",
       "      <th>MonthlyCharges</th>\n",
       "      <th>TotalCharges</th>\n",
       "    </tr>\n",
       "  </thead>\n",
       "  <tbody>\n",
       "    <tr>\n",
       "      <th>6418</th>\n",
       "      <td>1.000812</td>\n",
       "      <td>-0.440447</td>\n",
       "      <td>1.029648</td>\n",
       "      <td>-0.661617</td>\n",
       "      <td>-0.058909</td>\n",
       "      <td>0.330698</td>\n",
       "      <td>1.115536</td>\n",
       "      <td>-1.179622</td>\n",
       "      <td>-0.912353</td>\n",
       "      <td>-1.0289</td>\n",
       "      <td>1.230888</td>\n",
       "      <td>1.393257</td>\n",
       "      <td>1.140958</td>\n",
       "      <td>1.141887</td>\n",
       "      <td>0.367913</td>\n",
       "      <td>0.831765</td>\n",
       "      <td>1.357293</td>\n",
       "      <td>0.478852</td>\n",
       "      <td>0.084598</td>\n",
       "    </tr>\n",
       "    <tr>\n",
       "      <th>1948</th>\n",
       "      <td>-0.999189</td>\n",
       "      <td>-0.440447</td>\n",
       "      <td>-0.971205</td>\n",
       "      <td>-0.661617</td>\n",
       "      <td>-1.238161</td>\n",
       "      <td>0.330698</td>\n",
       "      <td>-0.994822</td>\n",
       "      <td>0.179783</td>\n",
       "      <td>-0.912353</td>\n",
       "      <td>-1.0289</td>\n",
       "      <td>-1.034663</td>\n",
       "      <td>-0.922965</td>\n",
       "      <td>-1.113972</td>\n",
       "      <td>1.141887</td>\n",
       "      <td>-0.829323</td>\n",
       "      <td>-1.202263</td>\n",
       "      <td>0.416160</td>\n",
       "      <td>0.527176</td>\n",
       "      <td>-0.940377</td>\n",
       "    </tr>\n",
       "  </tbody>\n",
       "</table>\n",
       "</div>"
      ],
      "text/plain": [
       "        gender  SeniorCitizen   Partner  Dependents    tenure  PhoneService  \\\n",
       "6418  1.000812      -0.440447  1.029648   -0.661617 -0.058909      0.330698   \n",
       "1948 -0.999189      -0.440447 -0.971205   -0.661617 -1.238161      0.330698   \n",
       "\n",
       "      MultipleLines  InternetService  OnlineSecurity  OnlineBackup  \\\n",
       "6418       1.115536        -1.179622       -0.912353       -1.0289   \n",
       "1948      -0.994822         0.179783       -0.912353       -1.0289   \n",
       "\n",
       "      DeviceProtection  TechSupport  StreamingTV  StreamingMovies  Contract  \\\n",
       "6418          1.230888     1.393257     1.140958         1.141887  0.367913   \n",
       "1948         -1.034663    -0.922965    -1.113972         1.141887 -0.829323   \n",
       "\n",
       "      PaperlessBilling  PaymentMethod  MonthlyCharges  TotalCharges  \n",
       "6418          0.831765       1.357293        0.478852      0.084598  \n",
       "1948         -1.202263       0.416160        0.527176     -0.940377  "
      ]
     },
     "execution_count": 29,
     "metadata": {},
     "output_type": "execute_result"
    }
   ],
   "source": [
    "X_test.head(2)"
   ]
  },
  {
   "cell_type": "markdown",
   "metadata": {
    "id": "oli4ZSkeIpph"
   },
   "source": [
    "### 11. Write a function. (4 points)\n",
    "- i) Which can take the model and data as inputs.\n",
    "- ii) Fit the model with the train data.\n",
    "- iii) Make predictions on the test set.\n",
    "- iv) Returns the Accuracy Score.\n"
   ]
  },
  {
   "cell_type": "code",
   "execution_count": 30,
   "metadata": {
    "id": "aGdRJu0fIpph"
   },
   "outputs": [],
   "source": [
    "def fit_n_print(model, X_train, X_test, y_train, y_test):  # take the model, and data as inputs\n",
    "\n",
    "    model.fit(X_train, y_train)   # fits the model with the train data\n",
    "\n",
    "    pred = model.predict(X_test)  # makes predictions on the test set\n",
    "\n",
    "    accuracy = accuracy_score(y_test, pred)\n",
    "                   \n",
    "    return accuracy  # return all the metrics"
   ]
  },
  {
   "cell_type": "markdown",
   "metadata": {
    "id": "rXfne4aOIpph"
   },
   "source": [
    "### 12. Use the function and train a Logistic regression, KNN, and Naive Bayes, Decision tree, Random forest, Boosting and Stacking Classifier models and make predictions on test data."
   ]
  },
  {
   "cell_type": "code",
   "execution_count": 31,
   "metadata": {
    "id": "M8O5M-n1Ipph"
   },
   "outputs": [],
   "source": [
    "## Intializing the models\n",
    "\n",
    "lr = LogisticRegression()\n",
    "nb = GaussianNB()\n",
    "knn = KNeighborsClassifier()\n",
    "dt = DecisionTreeClassifier()\n",
    "rf = RandomForestClassifier()\n",
    "adb = AdaBoostClassifier()\n",
    "gb = GradientBoostingClassifier()\n",
    "\n",
    "estimators = [('rf', rf),('knn', knn), ('gb', gb), ('adb', adb)]\n",
    "sc = StackingClassifier(estimators=estimators, final_estimator=rf)"
   ]
  },
  {
   "cell_type": "code",
   "execution_count": null,
   "metadata": {},
   "outputs": [],
   "source": [
    "result = pd.DataFrame(columns = ['Accuracy'])\n",
    "\n",
    "for model, model_name in zip([lr, nb, knn, dt, rf, adb, gb, sc], \n",
    "                             ['Logistic Regression','Naive Bayes','KNN','Decision tree', \n",
    "                              'Random Forest', 'Ada Boost', 'Gradient Boost', 'Stacking']):\n",
    "    \n",
    "    result.loc[model_name] = fit_n_print(model, X_train, X_test, y_train, y_test)"
   ]
  },
  {
   "cell_type": "markdown",
   "metadata": {
    "id": "mGFsRHkaIpph"
   },
   "source": [
    "### 13. Display and compare all the models designed with their test accuracies."
   ]
  },
  {
   "cell_type": "code",
   "execution_count": null,
   "metadata": {
    "id": "7DlUNZWzIppi",
    "outputId": "7069d2e8-5d8d-4258-8bca-d2c9d68ea2fd"
   },
   "outputs": [
    {
     "data": {
      "text/html": [
       "<div>\n",
       "<style scoped>\n",
       "    .dataframe tbody tr th:only-of-type {\n",
       "        vertical-align: middle;\n",
       "    }\n",
       "\n",
       "    .dataframe tbody tr th {\n",
       "        vertical-align: top;\n",
       "    }\n",
       "\n",
       "    .dataframe thead th {\n",
       "        text-align: right;\n",
       "    }\n",
       "</style>\n",
       "<table border=\"1\" class=\"dataframe\">\n",
       "  <thead>\n",
       "    <tr style=\"text-align: right;\">\n",
       "      <th></th>\n",
       "      <th>Accuracy</th>\n",
       "    </tr>\n",
       "  </thead>\n",
       "  <tbody>\n",
       "    <tr>\n",
       "      <th>Logistic Regression</th>\n",
       "      <td>0.803597</td>\n",
       "    </tr>\n",
       "    <tr>\n",
       "      <th>Naive Bayes</th>\n",
       "      <td>0.749172</td>\n",
       "    </tr>\n",
       "    <tr>\n",
       "      <th>KNN</th>\n",
       "      <td>0.744439</td>\n",
       "    </tr>\n",
       "    <tr>\n",
       "      <th>Decision tree</th>\n",
       "      <td>0.731661</td>\n",
       "    </tr>\n",
       "    <tr>\n",
       "      <th>Random Forest</th>\n",
       "      <td>0.787506</td>\n",
       "    </tr>\n",
       "    <tr>\n",
       "      <th>Ada Boost</th>\n",
       "      <td>0.793658</td>\n",
       "    </tr>\n",
       "    <tr>\n",
       "      <th>Gradient Boost</th>\n",
       "      <td>0.801704</td>\n",
       "    </tr>\n",
       "    <tr>\n",
       "      <th>Stacking</th>\n",
       "      <td>0.780880</td>\n",
       "    </tr>\n",
       "  </tbody>\n",
       "</table>\n",
       "</div>"
      ],
      "text/plain": [
       "                     Accuracy\n",
       "Logistic Regression  0.803597\n",
       "Naive Bayes          0.749172\n",
       "KNN                  0.744439\n",
       "Decision tree        0.731661\n",
       "Random Forest        0.787506\n",
       "Ada Boost            0.793658\n",
       "Gradient Boost       0.801704\n",
       "Stacking             0.780880"
      ]
     },
     "execution_count": 67,
     "metadata": {},
     "output_type": "execute_result"
    }
   ],
   "source": [
    "result"
   ]
  },
  {
   "cell_type": "markdown",
   "metadata": {
    "id": "HY0eaAMsIppi"
   },
   "source": [
    "### 14. Select the final best trained model along with your detailed comments for selecting this model. "
   ]
  },
  {
   "cell_type": "markdown",
   "metadata": {
    "id": "-jgD4ZLVIppi"
   },
   "source": [
    "- The final best performing model is Logistic Regression model\n",
    "- The logistic regression model is giving us the highest accuracy score compare to all the other models."
   ]
  },
  {
   "cell_type": "markdown",
   "metadata": {
    "id": "EkJYlwqdIppi"
   },
   "source": [
    "### 15. Write your conclusion on the results and mention the steps to be taken further in order to improve the performance of the model."
   ]
  },
  {
   "cell_type": "markdown",
   "metadata": {
    "id": "lZIwRGIUIppi"
   },
   "source": [
    "- Exploratory data analysis made it possible for us to draw a profile of clients that discontinue their subscriptions and the kind of services and contracts they usually sign for, which helps the company to make specific improvements and develop strategies to retain these clients.\n",
    "- We have explored the variables with respect to the subcription charges for the customers and inferred that the charges were a very important variable whether the customer is going to stay or churn.\n",
    "- The Company has pay more focus on the subscription charges for the customers and giving certain discounts and offers and promote their business and can make the customers retain with them.\n",
    "- We have build different classification models, the logistic regression model is giving us the best accuracy score for training and testing with a balanced results.\n",
    "- Please note, we have seen that the target class is imbalanced so, we can further go with evaluating the models based on the different performance metrics such as presicion, recall and F1score and choose the model accordingly.\n",
    "- Also, we can tune the hyperparameters and find the best set of hyperparameters will increase the classification accuracy of the model."
   ]
  }
 ],
 "metadata": {
  "colab": {
   "collapsed_sections": [
    "j0sX7sM5_6Lp",
    "y4d9CDhQIppa",
    "ZW5xuIOCnJV0",
    "o-LQ2NpgIppd",
    "-nXGucydIppe",
    "rtUHC3seIppe",
    "3t3biRZXIppe",
    "zge8bykv_6Lv",
    "_WfS4o2S_6Lv",
    "LvlyM5I8Ippg",
    "KCtsk4VjIppg",
    "lVCsEyHgIppg",
    "oli4ZSkeIpph",
    "rXfne4aOIpph",
    "mGFsRHkaIpph"
   ],
   "name": "Sample Solution.ipynb",
   "provenance": []
  },
  "kernelspec": {
   "display_name": "Python 3",
   "language": "python",
   "name": "python3"
  },
  "language_info": {
   "codemirror_mode": {
    "name": "ipython",
    "version": 3
   },
   "file_extension": ".py",
   "mimetype": "text/x-python",
   "name": "python",
   "nbconvert_exporter": "python",
   "pygments_lexer": "ipython3",
   "version": "3.6.8"
  }
 },
 "nbformat": 4,
 "nbformat_minor": 1
}
